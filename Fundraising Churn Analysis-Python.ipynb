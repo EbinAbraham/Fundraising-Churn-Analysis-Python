{
  "nbformat": 4,
  "nbformat_minor": 0,
  "metadata": {
    "colab": {
      "name": " Fundraising Churn Analysis.ipynb",
      "version": "0.3.2",
      "provenance": [],
      "collapsed_sections": []
    },
    "kernelspec": {
      "display_name": "Python 3",
      "language": "python",
      "name": "python3"
    }
  },
  "cells": [
    {
      "metadata": {
        "id": "KL3QNLRSqWNh",
        "colab_type": "code",
        "colab": {}
      },
      "cell_type": "code",
      "source": [
        "import pandas as pd\n",
        "import numpy as np"
      ],
      "execution_count": 0,
      "outputs": []
    },
    {
      "metadata": {
        "id": "LNJ_Lz6Sq3kn",
        "colab_type": "text"
      },
      "cell_type": "markdown",
      "source": [
        "**Reading SAS Files**"
      ]
    },
    {
      "metadata": {
        "id": "kjEhtbzgqWNr",
        "colab_type": "code",
        "colab": {}
      },
      "cell_type": "code",
      "source": [
        "#df1=pd.read_sas('comclas.sas7bdat')         # (8, 2)\n",
        "#df2=pd.read_sas('commaint.sas7bdat')        # (30, 2)\n",
        "#df3=pd.read_sas('commediu.sas7bdat')        # (16, 2)\n",
        "#df4=pd.read_sas('communication.sas7bdat')   # (763569, 7)\n",
        "#df5=pd.read_sas('extrel.sas7bdat')          # (26689, 4)\n",
        "#df6=pd.read_sas('extrelty.sas7bdat')        # (26, 2)\n",
        "#df7=pd.read_sas('nameaddr.sas7bdat')        # (24186, 4)\n",
        "#df8=pd.read_sas('payhistory.sas7bdat')      # (1205720, 6)"
      ],
      "execution_count": 0,
      "outputs": []
    },
    {
      "metadata": {
        "id": "59arQdknrCqx",
        "colab_type": "text"
      },
      "cell_type": "markdown",
      "source": [
        "**Converting to CSV file for reading to Google Colab**"
      ]
    },
    {
      "metadata": {
        "id": "inAX_dbhqera",
        "colab_type": "code",
        "colab": {}
      },
      "cell_type": "code",
      "source": [
        "#df1.to_csv('comclas.csv')\n",
        "#df2.to_csv('commaint.csv')\n",
        "#df3.to_csv('commediu.csv')\n",
        "#df4.to_csv('communication.csv')\n",
        "#df5.to_csv('extrel.csv')\n",
        "#df6.to_csv('extrelty.csv')\n",
        "#df7.to_csv('nameaddr.csv')\n",
        "#df8.to_csv('payhistory.csv')"
      ],
      "execution_count": 0,
      "outputs": []
    },
    {
      "metadata": {
        "id": "liH8fECGrQqw",
        "colab_type": "text"
      },
      "cell_type": "markdown",
      "source": [
        "**Reading Converted CSV Files to Google Colab**"
      ]
    },
    {
      "metadata": {
        "id": "UPLKotwrqepD",
        "colab_type": "code",
        "colab": {
          "resources": {
            "http://localhost:8080/nbextensions/google.colab/files.js": {
              "data": "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",
              "ok": true,
              "headers": [
                [
                  "content-type",
                  "application/javascript"
                ]
              ],
              "status": 200,
              "status_text": ""
            }
          },
          "base_uri": "https://localhost:8080/",
          "height": 239
        },
        "outputId": "6608ec08-1515-4d40-a516-42d1ad637778"
      },
      "cell_type": "code",
      "source": [
        "from google.colab import files\n",
        "import io\n",
        "\n",
        "uploaded=files.upload()\n",
        "df11=pd.read_csv(io.StringIO(uploaded['comclas.csv'].decode('utf-8')),index_col=0)\n",
        "\n",
        "uploaded=files.upload()\n",
        "df21=pd.read_csv(io.StringIO(uploaded['commaint.csv'].decode('utf-8')),index_col=0)\n",
        "\n",
        "uploaded=files.upload()\n",
        "df31=pd.read_csv(io.StringIO(uploaded['commediu.csv'].decode('utf-8')),index_col=0)\n",
        "\n",
        "uploaded=files.upload()\n",
        "df41=pd.read_csv(io.StringIO(uploaded['communication.csv'].decode('utf-8')),index_col=0)"
      ],
      "execution_count": 2,
      "outputs": [
        {
          "output_type": "display_data",
          "data": {
            "text/html": [
              "\n",
              "     <input type=\"file\" id=\"files-b4a9345e-d004-4775-8295-d89d3d613b65\" name=\"files[]\" multiple disabled />\n",
              "     <output id=\"result-b4a9345e-d004-4775-8295-d89d3d613b65\">\n",
              "      Upload widget is only available when the cell has been executed in the\n",
              "      current browser session. Please rerun this cell to enable.\n",
              "      </output>\n",
              "      <script src=\"/nbextensions/google.colab/files.js\"></script> "
            ],
            "text/plain": [
              "<IPython.core.display.HTML object>"
            ]
          },
          "metadata": {
            "tags": []
          }
        },
        {
          "output_type": "stream",
          "text": [
            "Saving comclas.csv to comclas.csv\n"
          ],
          "name": "stdout"
        },
        {
          "output_type": "display_data",
          "data": {
            "text/html": [
              "\n",
              "     <input type=\"file\" id=\"files-fd27c2f1-7a6c-48d5-8b69-b7d205c6c3f9\" name=\"files[]\" multiple disabled />\n",
              "     <output id=\"result-fd27c2f1-7a6c-48d5-8b69-b7d205c6c3f9\">\n",
              "      Upload widget is only available when the cell has been executed in the\n",
              "      current browser session. Please rerun this cell to enable.\n",
              "      </output>\n",
              "      <script src=\"/nbextensions/google.colab/files.js\"></script> "
            ],
            "text/plain": [
              "<IPython.core.display.HTML object>"
            ]
          },
          "metadata": {
            "tags": []
          }
        },
        {
          "output_type": "stream",
          "text": [
            "Saving commaint.csv to commaint.csv\n"
          ],
          "name": "stdout"
        },
        {
          "output_type": "display_data",
          "data": {
            "text/html": [
              "\n",
              "     <input type=\"file\" id=\"files-5cca8854-f0b3-4187-8ec2-c13697afd4b7\" name=\"files[]\" multiple disabled />\n",
              "     <output id=\"result-5cca8854-f0b3-4187-8ec2-c13697afd4b7\">\n",
              "      Upload widget is only available when the cell has been executed in the\n",
              "      current browser session. Please rerun this cell to enable.\n",
              "      </output>\n",
              "      <script src=\"/nbextensions/google.colab/files.js\"></script> "
            ],
            "text/plain": [
              "<IPython.core.display.HTML object>"
            ]
          },
          "metadata": {
            "tags": []
          }
        },
        {
          "output_type": "stream",
          "text": [
            "Saving commediu.csv to commediu.csv\n"
          ],
          "name": "stdout"
        },
        {
          "output_type": "display_data",
          "data": {
            "text/html": [
              "\n",
              "     <input type=\"file\" id=\"files-8f7f8e85-f3ad-4efa-9c92-26969c68bcef\" name=\"files[]\" multiple disabled />\n",
              "     <output id=\"result-8f7f8e85-f3ad-4efa-9c92-26969c68bcef\">\n",
              "      Upload widget is only available when the cell has been executed in the\n",
              "      current browser session. Please rerun this cell to enable.\n",
              "      </output>\n",
              "      <script src=\"/nbextensions/google.colab/files.js\"></script> "
            ],
            "text/plain": [
              "<IPython.core.display.HTML object>"
            ]
          },
          "metadata": {
            "tags": []
          }
        },
        {
          "output_type": "stream",
          "text": [
            "Saving communication.csv to communication.csv\n"
          ],
          "name": "stdout"
        }
      ]
    },
    {
      "metadata": {
        "id": "t1d_ZrsfqWOJ",
        "colab_type": "code",
        "colab": {
          "resources": {
            "http://localhost:8080/nbextensions/google.colab/files.js": {
              "data": "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",
              "ok": true,
              "headers": [
                [
                  "content-type",
                  "application/javascript"
                ]
              ],
              "status": 200,
              "status_text": ""
            }
          },
          "base_uri": "https://localhost:8080/",
          "height": 293
        },
        "outputId": "a7918700-9a12-4451-dd40-fb9ee87d6458"
      },
      "cell_type": "code",
      "source": [
        "uploaded=files.upload()\n",
        "df51=pd.read_csv(io.StringIO(uploaded['extrel.csv'].decode('utf-8')),index_col=0)\n",
        "\n",
        "uploaded=files.upload()\n",
        "df61=pd.read_csv(io.StringIO(uploaded['extrelty.csv'].decode('utf-8')),index_col=0)\n",
        "\n",
        "uploaded=files.upload()\n",
        "df71=pd.read_csv(io.StringIO(uploaded['nameaddr.csv'].decode('utf-8')),index_col=0)\n",
        "\n",
        "uploaded=files.upload()\n",
        "df81=pd.read_csv(io.StringIO(uploaded['payhistory.csv'].decode('utf-8')),index_col=0)"
      ],
      "execution_count": 4,
      "outputs": [
        {
          "output_type": "display_data",
          "data": {
            "text/html": [
              "\n",
              "     <input type=\"file\" id=\"files-36132326-91f3-480b-95ad-03e66d0196c0\" name=\"files[]\" multiple disabled />\n",
              "     <output id=\"result-36132326-91f3-480b-95ad-03e66d0196c0\">\n",
              "      Upload widget is only available when the cell has been executed in the\n",
              "      current browser session. Please rerun this cell to enable.\n",
              "      </output>\n",
              "      <script src=\"/nbextensions/google.colab/files.js\"></script> "
            ],
            "text/plain": [
              "<IPython.core.display.HTML object>"
            ]
          },
          "metadata": {
            "tags": []
          }
        },
        {
          "output_type": "stream",
          "text": [
            "Saving extrel.csv to extrel (1).csv\n"
          ],
          "name": "stdout"
        },
        {
          "output_type": "display_data",
          "data": {
            "text/html": [
              "\n",
              "     <input type=\"file\" id=\"files-d75a78fe-c9ce-4b8b-88e6-10fb634e611d\" name=\"files[]\" multiple disabled />\n",
              "     <output id=\"result-d75a78fe-c9ce-4b8b-88e6-10fb634e611d\">\n",
              "      Upload widget is only available when the cell has been executed in the\n",
              "      current browser session. Please rerun this cell to enable.\n",
              "      </output>\n",
              "      <script src=\"/nbextensions/google.colab/files.js\"></script> "
            ],
            "text/plain": [
              "<IPython.core.display.HTML object>"
            ]
          },
          "metadata": {
            "tags": []
          }
        },
        {
          "output_type": "stream",
          "text": [
            "Saving extrelty.csv to extrelty (1).csv\n"
          ],
          "name": "stdout"
        },
        {
          "output_type": "display_data",
          "data": {
            "text/html": [
              "\n",
              "     <input type=\"file\" id=\"files-dc695759-6999-404b-ab4d-de27455b7c8e\" name=\"files[]\" multiple disabled />\n",
              "     <output id=\"result-dc695759-6999-404b-ab4d-de27455b7c8e\">\n",
              "      Upload widget is only available when the cell has been executed in the\n",
              "      current browser session. Please rerun this cell to enable.\n",
              "      </output>\n",
              "      <script src=\"/nbextensions/google.colab/files.js\"></script> "
            ],
            "text/plain": [
              "<IPython.core.display.HTML object>"
            ]
          },
          "metadata": {
            "tags": []
          }
        },
        {
          "output_type": "stream",
          "text": [
            "Saving nameaddr.csv to nameaddr (1).csv\n"
          ],
          "name": "stdout"
        },
        {
          "output_type": "display_data",
          "data": {
            "text/html": [
              "\n",
              "     <input type=\"file\" id=\"files-7e976649-f87f-4fc0-8f62-364c305df9db\" name=\"files[]\" multiple disabled />\n",
              "     <output id=\"result-7e976649-f87f-4fc0-8f62-364c305df9db\">\n",
              "      Upload widget is only available when the cell has been executed in the\n",
              "      current browser session. Please rerun this cell to enable.\n",
              "      </output>\n",
              "      <script src=\"/nbextensions/google.colab/files.js\"></script> "
            ],
            "text/plain": [
              "<IPython.core.display.HTML object>"
            ]
          },
          "metadata": {
            "tags": []
          }
        },
        {
          "output_type": "stream",
          "text": [
            "Saving payhistory.csv to payhistory (1).csv\n"
          ],
          "name": "stdout"
        },
        {
          "output_type": "stream",
          "text": [
            "/usr/local/lib/python3.6/dist-packages/numpy/lib/arraysetops.py:472: FutureWarning: elementwise comparison failed; returning scalar instead, but in the future will perform elementwise comparison\n",
            "  mask |= (ar1 == a)\n"
          ],
          "name": "stderr"
        }
      ]
    },
    {
      "metadata": {
        "id": "Xz6LBpjIiCB7",
        "colab_type": "code",
        "colab": {}
      },
      "cell_type": "code",
      "source": [
        "#  Making copy of the datasets\n",
        "\n",
        "df1=pd.DataFrame.copy(df11)\n",
        "df2=pd.DataFrame.copy(df21)\n",
        "df3=pd.DataFrame.copy(df31)\n",
        "df4=pd.DataFrame.copy(df41)\n",
        "df5=pd.DataFrame.copy(df51)\n",
        "df6=pd.DataFrame.copy(df61)\n",
        "df7=pd.DataFrame.copy(df71)\n",
        "df8=pd.DataFrame.copy(df81)"
      ],
      "execution_count": 0,
      "outputs": []
    },
    {
      "metadata": {
        "id": "Bu030kNLyCKZ",
        "colab_type": "text"
      },
      "cell_type": "markdown",
      "source": [
        "**Merging Tables**"
      ]
    },
    {
      "metadata": {
        "id": "qfoWBr04qWNz",
        "colab_type": "code",
        "colab": {}
      },
      "cell_type": "code",
      "source": [
        "df4=pd.merge(df4,df1,how='left',on='CLASCODE')\n",
        "df4=pd.merge(df4,df2,how='left',on='MNTOPCODE')\n",
        "df4=pd.merge(df4,df3,how='left',on='MEDIUMCODE')"
      ],
      "execution_count": 0,
      "outputs": []
    },
    {
      "metadata": {
        "id": "0TIKViHGtA6A",
        "colab_type": "code",
        "colab": {}
      },
      "cell_type": "code",
      "source": [
        "# Removing duplicates in df4\n",
        "\n",
        "tmp=df4.sort_values(['EXTRELNO','CONTDATE'])\n",
        "tmp=tmp.drop_duplicates(['EXTRELNO'],keep='last')\n",
        "df4=pd.DataFrame.copy(tmp)"
      ],
      "execution_count": 0,
      "outputs": []
    },
    {
      "metadata": {
        "id": "ehoJf_AgtA3Q",
        "colab_type": "code",
        "colab": {}
      },
      "cell_type": "code",
      "source": [
        "#Removing duplicates from df5\n",
        "\n",
        "tmp=df5.sort_values(['EXTRELNO','EXTRELSTDT'])\n",
        "tmp=tmp.drop_duplicates(['EXTRELNO'],keep='last')\n",
        "df5=pd.DataFrame.copy(tmp)"
      ],
      "execution_count": 0,
      "outputs": []
    },
    {
      "metadata": {
        "id": "CB7hBccWqWOQ",
        "colab_type": "code",
        "colab": {}
      },
      "cell_type": "code",
      "source": [
        "#Removing duplicates from df8\n",
        "\n",
        "tmp=df8.sort_values(['EXTRELNO','PDATE'])\n",
        "tmp=tmp.drop_duplicates(['EXTRELNO'],keep='last')\n",
        "df8=pd.DataFrame.copy(tmp)"
      ],
      "execution_count": 0,
      "outputs": []
    },
    {
      "metadata": {
        "id": "qCzEAkJQQOpy",
        "colab_type": "code",
        "colab": {}
      },
      "cell_type": "code",
      "source": [
        "#Creating New variables with df8\n",
        "\n",
        "tmp1=df8.groupby('EXTRELNO').sum()\n",
        "tmp1=tmp1.iloc[:,1]\n",
        "\n",
        "df8['total_donation']=0\n",
        "\n",
        "for i in tmp1.index:\n",
        "  df8['total_donation']=np.where(df8['EXTRELNO']==i,tmp1[i],df8['total_donation'])"
      ],
      "execution_count": 0,
      "outputs": []
    },
    {
      "metadata": {
        "id": "T_RBJIlSqWOW",
        "colab_type": "code",
        "colab": {}
      },
      "cell_type": "code",
      "source": [
        "df5=pd.merge(df5,df6,how='left',on='EXRELACTCD')\n",
        "df=pd.merge(df7,df5,how='inner',on='EXTRELNO')\n",
        "df=pd.merge(df,df4,how='left',on='EXTRELNO')\n",
        "df=pd.merge(df,df8,how='inner',on='EXTRELNO')"
      ],
      "execution_count": 0,
      "outputs": []
    },
    {
      "metadata": {
        "id": "T_PCWyZjfQLQ",
        "colab_type": "code",
        "colab": {
          "base_uri": "https://localhost:8080/",
          "height": 345
        },
        "outputId": "66804878-419e-4d00-8ce3-6be8e7d90558"
      },
      "cell_type": "code",
      "source": [
        "df.head()"
      ],
      "execution_count": 12,
      "outputs": [
        {
          "output_type": "execute_result",
          "data": {
            "text/html": [
              "<div>\n",
              "<style scoped>\n",
              "    .dataframe tbody tr th:only-of-type {\n",
              "        vertical-align: middle;\n",
              "    }\n",
              "\n",
              "    .dataframe tbody tr th {\n",
              "        vertical-align: top;\n",
              "    }\n",
              "\n",
              "    .dataframe thead th {\n",
              "        text-align: right;\n",
              "    }\n",
              "</style>\n",
              "<table border=\"1\" class=\"dataframe\">\n",
              "  <thead>\n",
              "    <tr style=\"text-align: right;\">\n",
              "      <th></th>\n",
              "      <th>EXTRELNO</th>\n",
              "      <th>NAME1TITLE</th>\n",
              "      <th>POSTCODE</th>\n",
              "      <th>LANGUACODE</th>\n",
              "      <th>EXRELACTCD</th>\n",
              "      <th>EXTRELSTDT</th>\n",
              "      <th>EXRELDATEN</th>\n",
              "      <th>EXRELACTDE</th>\n",
              "      <th>CONTID</th>\n",
              "      <th>MEDIUMCODE</th>\n",
              "      <th>...</th>\n",
              "      <th>CONTDATE</th>\n",
              "      <th>CLASDESC</th>\n",
              "      <th>MNTOPDESC</th>\n",
              "      <th>MEDIUMDESC</th>\n",
              "      <th>PID</th>\n",
              "      <th>PDATE</th>\n",
              "      <th>PAMT</th>\n",
              "      <th>PAYTYPECD</th>\n",
              "      <th>STATUS</th>\n",
              "      <th>total_donation</th>\n",
              "    </tr>\n",
              "  </thead>\n",
              "  <tbody>\n",
              "    <tr>\n",
              "      <th>0</th>\n",
              "      <td>b'0026414'</td>\n",
              "      <td>b'MW'</td>\n",
              "      <td>b'8300'</td>\n",
              "      <td>b'NL'</td>\n",
              "      <td>b'CT'</td>\n",
              "      <td>1995-02-02</td>\n",
              "      <td>NaN</td>\n",
              "      <td>b'Contributor'</td>\n",
              "      <td>b'005165396'</td>\n",
              "      <td>b'CI'</td>\n",
              "      <td>...</td>\n",
              "      <td>2007-01-10</td>\n",
              "      <td>b'CTS-item'</td>\n",
              "      <td>b'Communication Tracking System'</td>\n",
              "      <td>NaN</td>\n",
              "      <td>5086513.0</td>\n",
              "      <td>2007-01-17</td>\n",
              "      <td>25.00</td>\n",
              "      <td>b'D'</td>\n",
              "      <td>b'OK'</td>\n",
              "      <td>25.00</td>\n",
              "    </tr>\n",
              "    <tr>\n",
              "      <th>1</th>\n",
              "      <td>b'0026419'</td>\n",
              "      <td>b'HM'</td>\n",
              "      <td>b'2600'</td>\n",
              "      <td>b'NL'</td>\n",
              "      <td>b'FP'</td>\n",
              "      <td>1992-03-01</td>\n",
              "      <td>NaN</td>\n",
              "      <td>b'CommitmentDo'</td>\n",
              "      <td>b'005057036'</td>\n",
              "      <td>b'CI'</td>\n",
              "      <td>...</td>\n",
              "      <td>2006-07-19</td>\n",
              "      <td>b'CTS-item'</td>\n",
              "      <td>b'Communication Tracking System'</td>\n",
              "      <td>NaN</td>\n",
              "      <td>5074662.0</td>\n",
              "      <td>2007-01-02</td>\n",
              "      <td>75.00</td>\n",
              "      <td>b'E'</td>\n",
              "      <td>b'OK'</td>\n",
              "      <td>75.00</td>\n",
              "    </tr>\n",
              "    <tr>\n",
              "      <th>2</th>\n",
              "      <td>b'0026424'</td>\n",
              "      <td>b'MW'</td>\n",
              "      <td>b'1932'</td>\n",
              "      <td>b'NL'</td>\n",
              "      <td>b'FP'</td>\n",
              "      <td>1992-03-01</td>\n",
              "      <td>1996-12-24</td>\n",
              "      <td>b'CommitmentDo'</td>\n",
              "      <td>b'001855168'</td>\n",
              "      <td>b'LE'</td>\n",
              "      <td>...</td>\n",
              "      <td>1997-06-30</td>\n",
              "      <td>b'Information delivery'</td>\n",
              "      <td>b'Change in information Relation'</td>\n",
              "      <td>b'Letters'</td>\n",
              "      <td>1088282.0</td>\n",
              "      <td>1997-01-02</td>\n",
              "      <td>20.33</td>\n",
              "      <td>b'O'</td>\n",
              "      <td>b'OK'</td>\n",
              "      <td>20.33</td>\n",
              "    </tr>\n",
              "    <tr>\n",
              "      <th>3</th>\n",
              "      <td>b'0026430'</td>\n",
              "      <td>b'HM'</td>\n",
              "      <td>b'2040'</td>\n",
              "      <td>b'NL'</td>\n",
              "      <td>b'CT'</td>\n",
              "      <td>1997-03-07</td>\n",
              "      <td>NaN</td>\n",
              "      <td>b'Contributor'</td>\n",
              "      <td>b'004978998'</td>\n",
              "      <td>b'LE'</td>\n",
              "      <td>...</td>\n",
              "      <td>2006-03-16</td>\n",
              "      <td>b'Acknowledgement'</td>\n",
              "      <td>b'Discontinuations'</td>\n",
              "      <td>b'Letters'</td>\n",
              "      <td>4642081.0</td>\n",
              "      <td>2005-10-18</td>\n",
              "      <td>23.00</td>\n",
              "      <td>b'D'</td>\n",
              "      <td>b'OK'</td>\n",
              "      <td>23.00</td>\n",
              "    </tr>\n",
              "    <tr>\n",
              "      <th>4</th>\n",
              "      <td>b'0026431'</td>\n",
              "      <td>b'FA'</td>\n",
              "      <td>b'8520'</td>\n",
              "      <td>b'NL'</td>\n",
              "      <td>b'CT'</td>\n",
              "      <td>1999-12-01</td>\n",
              "      <td>NaN</td>\n",
              "      <td>b'Contributor'</td>\n",
              "      <td>b'005103246'</td>\n",
              "      <td>b'CI'</td>\n",
              "      <td>...</td>\n",
              "      <td>2006-10-05</td>\n",
              "      <td>b'CTS-item'</td>\n",
              "      <td>b'Communication Tracking System'</td>\n",
              "      <td>NaN</td>\n",
              "      <td>4837059.0</td>\n",
              "      <td>2006-04-28</td>\n",
              "      <td>276.00</td>\n",
              "      <td>b'E'</td>\n",
              "      <td>b'OK'</td>\n",
              "      <td>276.00</td>\n",
              "    </tr>\n",
              "  </tbody>\n",
              "</table>\n",
              "<p>5 rows × 23 columns</p>\n",
              "</div>"
            ],
            "text/plain": [
              "     EXTRELNO NAME1TITLE POSTCODE LANGUACODE EXRELACTCD  EXTRELSTDT  \\\n",
              "0  b'0026414'      b'MW'  b'8300'      b'NL'      b'CT'  1995-02-02   \n",
              "1  b'0026419'      b'HM'  b'2600'      b'NL'      b'FP'  1992-03-01   \n",
              "2  b'0026424'      b'MW'  b'1932'      b'NL'      b'FP'  1992-03-01   \n",
              "3  b'0026430'      b'HM'  b'2040'      b'NL'      b'CT'  1997-03-07   \n",
              "4  b'0026431'      b'FA'  b'8520'      b'NL'      b'CT'  1999-12-01   \n",
              "\n",
              "   EXRELDATEN       EXRELACTDE        CONTID MEDIUMCODE       ...        \\\n",
              "0         NaN   b'Contributor'  b'005165396'      b'CI'       ...         \n",
              "1         NaN  b'CommitmentDo'  b'005057036'      b'CI'       ...         \n",
              "2  1996-12-24  b'CommitmentDo'  b'001855168'      b'LE'       ...         \n",
              "3         NaN   b'Contributor'  b'004978998'      b'LE'       ...         \n",
              "4         NaN   b'Contributor'  b'005103246'      b'CI'       ...         \n",
              "\n",
              "     CONTDATE                 CLASDESC                          MNTOPDESC  \\\n",
              "0  2007-01-10              b'CTS-item'   b'Communication Tracking System'   \n",
              "1  2006-07-19              b'CTS-item'   b'Communication Tracking System'   \n",
              "2  1997-06-30  b'Information delivery'  b'Change in information Relation'   \n",
              "3  2006-03-16       b'Acknowledgement'                b'Discontinuations'   \n",
              "4  2006-10-05              b'CTS-item'   b'Communication Tracking System'   \n",
              "\n",
              "   MEDIUMDESC        PID       PDATE    PAMT  PAYTYPECD STATUS  total_donation  \n",
              "0         NaN  5086513.0  2007-01-17   25.00       b'D'  b'OK'           25.00  \n",
              "1         NaN  5074662.0  2007-01-02   75.00       b'E'  b'OK'           75.00  \n",
              "2  b'Letters'  1088282.0  1997-01-02   20.33       b'O'  b'OK'           20.33  \n",
              "3  b'Letters'  4642081.0  2005-10-18   23.00       b'D'  b'OK'           23.00  \n",
              "4         NaN  4837059.0  2006-04-28  276.00       b'E'  b'OK'          276.00  \n",
              "\n",
              "[5 rows x 23 columns]"
            ]
          },
          "metadata": {
            "tags": []
          },
          "execution_count": 12
        }
      ]
    },
    {
      "metadata": {
        "id": "Ps_C0JXWYe6l",
        "colab_type": "code",
        "colab": {
          "base_uri": "https://localhost:8080/",
          "height": 487
        },
        "outputId": "17292c5a-115a-4648-fd56-1ff5cc112a9f"
      },
      "cell_type": "code",
      "source": [
        "df.info()"
      ],
      "execution_count": 13,
      "outputs": [
        {
          "output_type": "stream",
          "text": [
            "<class 'pandas.core.frame.DataFrame'>\n",
            "Int64Index: 10855 entries, 0 to 10854\n",
            "Data columns (total 23 columns):\n",
            "EXTRELNO          10855 non-null object\n",
            "NAME1TITLE        10591 non-null object\n",
            "POSTCODE          10809 non-null object\n",
            "LANGUACODE        10855 non-null object\n",
            "EXRELACTCD        10855 non-null object\n",
            "EXTRELSTDT        10855 non-null object\n",
            "EXRELDATEN        3374 non-null object\n",
            "EXRELACTDE        10855 non-null object\n",
            "CONTID            10781 non-null object\n",
            "MEDIUMCODE        10781 non-null object\n",
            "MNTOPCODE         10781 non-null object\n",
            "CLASCODE          10781 non-null object\n",
            "CONTDIREC         10781 non-null object\n",
            "CONTDATE          10781 non-null object\n",
            "CLASDESC          10781 non-null object\n",
            "MNTOPDESC         10781 non-null object\n",
            "MEDIUMDESC        4667 non-null object\n",
            "PID               10855 non-null float64\n",
            "PDATE             10855 non-null object\n",
            "PAMT              10855 non-null float64\n",
            "PAYTYPECD         10674 non-null object\n",
            "STATUS            10855 non-null object\n",
            "total_donation    10855 non-null float64\n",
            "dtypes: float64(3), object(20)\n",
            "memory usage: 2.0+ MB\n"
          ],
          "name": "stdout"
        }
      ]
    },
    {
      "metadata": {
        "id": "xJ6ORDCtHjI8",
        "colab_type": "code",
        "colab": {}
      },
      "cell_type": "code",
      "source": [
        "# Removing letter b from the data\n",
        "\n",
        "def brem(i):\n",
        "  for j in range(df.shape[0]):\n",
        "    nu=df[i].isnull()\n",
        "    if(nu[j]==False):\n",
        "      a,b,c=df.loc[j,i].split(\"'\")\n",
        "      df.loc[j,i]=b\n",
        "\n",
        "brem('EXTRELNO')\n",
        "brem('NAME1TITLE')\n",
        "brem('POSTCODE')\n",
        "brem('LANGUACODE')\n",
        "brem('MEDIUMCODE')\n",
        "brem('CLASCODE')\n",
        "brem('CONTDIREC')\n",
        "brem('MNTOPCODE')\n",
        "brem('EXRELACTCD')\n",
        "brem('STATUS')\n",
        "brem('PAYTYPECD')\n"
      ],
      "execution_count": 0,
      "outputs": []
    },
    {
      "metadata": {
        "id": "Il2lDJBWZG2D",
        "colab_type": "text"
      },
      "cell_type": "markdown",
      "source": [
        "__Data Preparation__"
      ]
    },
    {
      "metadata": {
        "id": "l23Swh8E3Uwg",
        "colab_type": "code",
        "colab": {}
      },
      "cell_type": "code",
      "source": [
        "# Converting dates to datetime\n",
        "\n",
        "df['CONTDATE']=pd.to_datetime(df['CONTDATE'],format='%Y-%m-%d')\n",
        "df['EXTRELSTDT']=pd.to_datetime(df['EXTRELSTDT'],format='%Y-%m-%d')\n",
        "df['EXRELDATEN']=pd.to_datetime(df['EXRELDATEN'],format='%Y-%m-%d')\n",
        "df['PDATE']=pd.to_datetime(df['PDATE'],format='%Y-%m-%d')"
      ],
      "execution_count": 0,
      "outputs": []
    },
    {
      "metadata": {
        "id": "Fr9Bg9Ji3UgR",
        "colab_type": "code",
        "colab": {}
      },
      "cell_type": "code",
      "source": [
        "# Assigning missing variable as unk category\n",
        "\n",
        "df['CLASCODE']=np.where(df['CLASCODE'].isnull(),'unk',df['CLASCODE'])\n",
        "\n",
        "# Replacing missing variable with mode value\n",
        "\n",
        "df['CONTDIREC']=df['CONTDIREC'].fillna(df['CONTDIREC'].mode()[0])\n",
        "df['MEDIUMCODE']=df['MEDIUMCODE'].fillna(df['MEDIUMCODE'].mode()[0])\n",
        "df['MNTOPCODE']=df['MNTOPCODE'].fillna(df['MNTOPCODE'].mode()[0])\n",
        "df['NAME1TITLE']=df['NAME1TITLE'].fillna(df['NAME1TITLE'].mode()[0])\n",
        "df['PAYTYPECD']=df['PAYTYPECD'].fillna(df['PAYTYPECD'].mode()[0])\n",
        " \n",
        "# Dropping Variables with high missing value\n",
        "\n",
        "df.drop(['CLASDESC','EXRELACTDE','MEDIUMDESC','MNTOPDESC','PAMT','PID','CONTID'],axis=1,inplace=True)\n",
        "\n",
        "# Replaceing nans in date with high value\n",
        "\n",
        "df['CONTDATE']=df['CONTDATE'].fillna(pd.to_datetime('2099-01-01'))\n",
        "df['EXRELDATEN']=df['EXRELDATEN'].fillna(pd.to_datetime('2099-01-01'))\n",
        "\n",
        "#Replacing nan in postcode with 0\n",
        "\n",
        "df['POSTCODE']=df['POSTCODE'].fillna(0)"
      ],
      "execution_count": 0,
      "outputs": []
    },
    {
      "metadata": {
        "id": "5524OoKk3UuD",
        "colab_type": "code",
        "colab": {}
      },
      "cell_type": "code",
      "source": [
        "#Creating output variable Churn\n",
        "\n",
        "tmp=df[(df['EXTRELSTDT']<pd.to_datetime('2006-01-01')) & (df['EXRELDATEN']>=pd.to_datetime('2006-01-01'))]\n",
        "tmp=tmp[tmp['EXRELACTCD']=='FP']\n",
        "tmp['churn']=np.where((tmp['EXTRELSTDT']<pd.to_datetime('2006-01-01')) & \n",
        "                      (tmp['EXRELDATEN']>=pd.to_datetime('2006-01-01')) &\n",
        "                      (tmp['EXRELDATEN']<=pd.to_datetime('2007-02-01')),1,0)\n",
        "df=pd.DataFrame.copy(tmp)\n",
        "df.drop('EXRELACTCD',axis=1,inplace=True)"
      ],
      "execution_count": 0,
      "outputs": []
    },
    {
      "metadata": {
        "id": "hM1ZwSQcTCMq",
        "colab_type": "code",
        "colab": {}
      },
      "cell_type": "code",
      "source": [
        "# Label Encoding\n",
        "\n",
        "from sklearn.preprocessing import LabelEncoder\n",
        "\n",
        "lc=LabelEncoder()\n",
        "df['CONTDIREC']=lc.fit_transform(df['CONTDIREC'])\n",
        "df['LANGUACODE']=lc.fit_transform(df['LANGUACODE'])"
      ],
      "execution_count": 0,
      "outputs": []
    },
    {
      "metadata": {
        "id": "6uzzaSMR8bjR",
        "colab_type": "code",
        "colab": {
          "base_uri": "https://localhost:8080/",
          "height": 1666
        },
        "outputId": "0022d957-e618-4a69-8afc-b96f82107f78"
      },
      "cell_type": "code",
      "source": [
        "# Checking Loglikelihood to reduce categorical variables\n",
        "\n",
        "import matplotlib.pyplot as plt\n",
        "import seaborn as sns\n",
        "\n",
        "num_var=['NAME1TITLE','MNTOPCODE','MEDIUMCODE','CLASCODE','PAYTYPECD','STATUS']\n",
        "for num in num_var:\n",
        "    logod = df.groupby(num)['churn'].sum() / (df.groupby(num)['churn'].count()-df.groupby(num)['churn'].sum())\n",
        "    logod = np.log(logod)\n",
        "    plt.subplots(figsize=(8,4))\n",
        "    sns.barplot(x=logod.index,y=logod)"
      ],
      "execution_count": 19,
      "outputs": [
        {
          "output_type": "stream",
          "text": [
            "/usr/local/lib/python3.6/dist-packages/ipykernel_launcher.py:8: RuntimeWarning: divide by zero encountered in log\n",
            "  \n",
            "/usr/local/lib/python3.6/dist-packages/seaborn/categorical.py:1428: FutureWarning: remove_na is deprecated and is a private function. Do not use.\n",
            "  stat_data = remove_na(group_data)\n"
          ],
          "name": "stderr"
        },
        {
          "output_type": "display_data",
          "data": {
            "image/png": "[encoded data removed]",
            "text/plain": [
              "<matplotlib.figure.Figure at 0x7f45ba3a7470>"
            ]
          },
          "metadata": {
            "tags": []
          }
        },
        {
          "output_type": "display_data",
          "data": {
            "image/png": "[encoded data removed]",
            "text/plain": [
              "<matplotlib.figure.Figure at 0x7f45ba3cb208>"
            ]
          },
          "metadata": {
            "tags": []
          }
        },
        {
          "output_type": "display_data",
          "data": {
            "image/png": "[encoded data removed]",
            "text/plain": [
              "<matplotlib.figure.Figure at 0x7f45ba23a7f0>"
            ]
          },
          "metadata": {
            "tags": []
          }
        },
        {
          "output_type": "display_data",
          "data": {
            "image/png": "[encoded data removed]",
            "text/plain": [
              "<matplotlib.figure.Figure at 0x7f45ba1f2eb8>"
            ]
          },
          "metadata": {
            "tags": []
          }
        },
        {
          "output_type": "display_data",
          "data": {
            "image/png": "[encoded data removed]",
            "text/plain": [
              "<matplotlib.figure.Figure at 0x7f45ba187048>"
            ]
          },
          "metadata": {
            "tags": []
          }
        },
        {
          "output_type": "display_data",
          "data": {
            "image/png": "[encoded data removed]",
            "text/plain": [
              "<matplotlib.figure.Figure at 0x7f45ba14e128>"
            ]
          },
          "metadata": {
            "tags": []
          }
        }
      ]
    },
    {
      "metadata": {
        "id": "_UCMe3Li3UdF",
        "colab_type": "code",
        "colab": {}
      },
      "cell_type": "code",
      "source": [
        "# Combining Categorical Variables\n",
        "\n",
        "df['NAME1TITLE']=np.where((df['NAME1TITLE']=='FA')|(df['NAME1TITLE']=='HM')|(df['NAME1TITLE']=='HR'),'FA_HM_HR',\n",
        "                         np.where((df['NAME1TITLE']=='JU')|(df['NAME1TITLE']=='MW'),'JU_MW','EH'))\n",
        "\n",
        "df['MNTOPCODE']=np.where((df['MNTOPCODE']=='FIC')|(df['MNTOPCODE']=='INF') | \n",
        "                         (df['MNTOPCODE']=='TAX')|(df['MNTOPCODE']=='FIN'),'FC_FN_IN_TA',\n",
        "                        np.where((df['MNTOPCODE']=='ARR')|(df['MNTOPCODE']=='CAN')|(df['MNTOPCODE']=='IRE'),'AR_CAN_IRE',\n",
        "                                 np.where((df['MNTOPCODE']=='ALL')|(df['MNTOPCODE']=='ENR'),'AL_EN',\n",
        "                                         np.where(df['MNTOPCODE']=='DIS','DIS',\n",
        "                                                 np.where(df['MNTOPCODE']=='CTS','CTS','Others')))))\n",
        "\n",
        "df['MEDIUMCODE']=np.where((df['MEDIUMCODE']=='EM')|(df['MEDIUMCODE']=='FF')|(df['MEDIUMCODE']=='MR')|(df['MEDIUMCODE']=='TE'),'EM_FF_MR_TE',\n",
        "                         np.where((df['MEDIUMCODE']=='FX')|(df['MEDIUMCODE']=='LE'),'FX_LE',\n",
        "                                 np.where(df['MEDIUMCODE']=='CI','CI',\n",
        "                                         np.where(df['MEDIUMCODE']=='ME','ME','Others'))))\n",
        "\n",
        "df['CLASCODE']=np.where((df['CLASCODE']=='AK')|(df['CLASCODE']=='ID')|(df['CLASCODE']=='RI'),'AK_ID_RI',\n",
        "                       np.where(df['CLASCODE']=='AN','AN',\n",
        "                               np.where(df['CLASCODE']=='CT','CT','CM')))"
      ],
      "execution_count": 0,
      "outputs": []
    },
    {
      "metadata": {
        "id": "E4vCl4RaPC1s",
        "colab_type": "code",
        "colab": {}
      },
      "cell_type": "code",
      "source": [
        "def ohe(i,df):\n",
        "  col=pd.get_dummies(df[i],prefix=i)\n",
        "  col=col.drop(col.columns[0],axis=1)\n",
        "  df=pd.concat([df,col],axis=1)\n",
        "  df.drop(i,axis=1,inplace=True)\n",
        "  return df\n",
        "  \n",
        "df=ohe('NAME1TITLE',df)\n",
        "df=ohe('MNTOPCODE',df)\n",
        "df=ohe('MEDIUMCODE',df)\n",
        "df=ohe('CLASCODE',df)\n",
        "df=ohe('PAYTYPECD',df)\n",
        "df=ohe('STATUS',df)"
      ],
      "execution_count": 0,
      "outputs": []
    },
    {
      "metadata": {
        "id": "Do5gYb2MNuqy",
        "colab_type": "code",
        "colab": {}
      },
      "cell_type": "code",
      "source": [
        "# Converting Postcode to frequency\n",
        "\n",
        "t=df['POSTCODE'].value_counts()\n",
        "for i in t.index:\n",
        "  df['POSTCODE']=np.where(df['POSTCODE']==i,t[i],df['POSTCODE'])\n",
        "  \n",
        "df=df.reset_index(drop=True)"
      ],
      "execution_count": 0,
      "outputs": []
    },
    {
      "metadata": {
        "id": "t03IahyuhMf-",
        "colab_type": "code",
        "colab": {}
      },
      "cell_type": "code",
      "source": [
        "#Converting Datetime variable to ordinal\n",
        "\n",
        "\n",
        "for i in range(df.shape[0]):\n",
        "  df.loc[i,'EXTRELSTDT']=df.loc[i,'EXTRELSTDT'].toordinal()\n",
        "  df.loc[i,'EXRELDATEN']=df.loc[i,'EXRELDATEN'].toordinal()\n",
        "  df.loc[i,'CONTDATE']=df.loc[i,'CONTDATE'].toordinal()\n",
        "  df.loc[i,'PDATE']=df.loc[i,'PDATE'].toordinal()\n",
        "  \n",
        "df=df.set_index('EXTRELNO')"
      ],
      "execution_count": 0,
      "outputs": []
    },
    {
      "metadata": {
        "id": "WAXfE0BEyybl",
        "colab_type": "code",
        "colab": {
          "base_uri": "https://localhost:8080/",
          "height": 54
        },
        "outputId": "74e23e51-118a-4b94-fe80-967fac5684fc"
      },
      "cell_type": "code",
      "source": [
        "myfor='churn~'+'+'.join(df.columns.difference(['churn']))\n",
        "print(myfor)"
      ],
      "execution_count": 24,
      "outputs": [
        {
          "output_type": "stream",
          "text": [
            "churn~CLASCODE_AN+CLASCODE_CM+CLASCODE_CT+CONTDATE+CONTDIREC+EXRELDATEN+EXTRELSTDT+LANGUACODE+MEDIUMCODE_EM_FF_MR_TE+MEDIUMCODE_FX_LE+MEDIUMCODE_ME+MEDIUMCODE_Others+MNTOPCODE_AR_CAN_IRE+MNTOPCODE_CTS+MNTOPCODE_DIS+MNTOPCODE_FC_FN_IN_TA+MNTOPCODE_Others+NAME1TITLE_FA_HM_HR+NAME1TITLE_JU_MW+PAYTYPECD_E+PAYTYPECD_O+PAYTYPECD_X+PDATE+POSTCODE+STATUS_OK+STATUS_RC+total_donation\n"
          ],
          "name": "stdout"
        }
      ]
    },
    {
      "metadata": {
        "id": "0O0Yxb_wx227",
        "colab_type": "code",
        "colab": {
          "base_uri": "https://localhost:8080/",
          "height": 1882
        },
        "outputId": "952b2fb9-0a56-469c-a2e3-501d74c670ff"
      },
      "cell_type": "code",
      "source": [
        "# Removing Variables with high VIF\n",
        "\n",
        "from statsmodels.stats.outliers_influence import variance_inflation_factor\n",
        "from patsy import dmatrices\n",
        "\n",
        "y,x= dmatrices(myfor, df, return_type='dataframe')\n",
        "\n",
        "vif = pd.DataFrame()\n",
        "vif[\"VIF Factor\"] = [variance_inflation_factor(x.values,i) for i in range(x.shape[1])]\n",
        "vif[\"features\"] = x.columns\n",
        "vif.round(1)"
      ],
      "execution_count": 25,
      "outputs": [
        {
          "output_type": "execute_result",
          "data": {
            "text/html": [
              "<div>\n",
              "<style scoped>\n",
              "    .dataframe tbody tr th:only-of-type {\n",
              "        vertical-align: middle;\n",
              "    }\n",
              "\n",
              "    .dataframe tbody tr th {\n",
              "        vertical-align: top;\n",
              "    }\n",
              "\n",
              "    .dataframe thead th {\n",
              "        text-align: right;\n",
              "    }\n",
              "</style>\n",
              "<table border=\"1\" class=\"dataframe\">\n",
              "  <thead>\n",
              "    <tr style=\"text-align: right;\">\n",
              "      <th></th>\n",
              "      <th>VIF Factor</th>\n",
              "      <th>features</th>\n",
              "    </tr>\n",
              "  </thead>\n",
              "  <tbody>\n",
              "    <tr>\n",
              "      <th>0</th>\n",
              "      <td>220584792.1</td>\n",
              "      <td>Intercept</td>\n",
              "    </tr>\n",
              "    <tr>\n",
              "      <th>1</th>\n",
              "      <td>1.7</td>\n",
              "      <td>POSTCODE[T.2]</td>\n",
              "    </tr>\n",
              "    <tr>\n",
              "      <th>2</th>\n",
              "      <td>1.6</td>\n",
              "      <td>POSTCODE[T.3]</td>\n",
              "    </tr>\n",
              "    <tr>\n",
              "      <th>3</th>\n",
              "      <td>1.9</td>\n",
              "      <td>POSTCODE[T.4]</td>\n",
              "    </tr>\n",
              "    <tr>\n",
              "      <th>4</th>\n",
              "      <td>1.8</td>\n",
              "      <td>POSTCODE[T.5]</td>\n",
              "    </tr>\n",
              "    <tr>\n",
              "      <th>5</th>\n",
              "      <td>2.2</td>\n",
              "      <td>POSTCODE[T.6]</td>\n",
              "    </tr>\n",
              "    <tr>\n",
              "      <th>6</th>\n",
              "      <td>2.4</td>\n",
              "      <td>POSTCODE[T.7]</td>\n",
              "    </tr>\n",
              "    <tr>\n",
              "      <th>7</th>\n",
              "      <td>2.1</td>\n",
              "      <td>POSTCODE[T.8]</td>\n",
              "    </tr>\n",
              "    <tr>\n",
              "      <th>8</th>\n",
              "      <td>2.1</td>\n",
              "      <td>POSTCODE[T.9]</td>\n",
              "    </tr>\n",
              "    <tr>\n",
              "      <th>9</th>\n",
              "      <td>2.3</td>\n",
              "      <td>POSTCODE[T.10]</td>\n",
              "    </tr>\n",
              "    <tr>\n",
              "      <th>10</th>\n",
              "      <td>2.2</td>\n",
              "      <td>POSTCODE[T.11]</td>\n",
              "    </tr>\n",
              "    <tr>\n",
              "      <th>11</th>\n",
              "      <td>1.9</td>\n",
              "      <td>POSTCODE[T.12]</td>\n",
              "    </tr>\n",
              "    <tr>\n",
              "      <th>12</th>\n",
              "      <td>2.0</td>\n",
              "      <td>POSTCODE[T.13]</td>\n",
              "    </tr>\n",
              "    <tr>\n",
              "      <th>13</th>\n",
              "      <td>1.9</td>\n",
              "      <td>POSTCODE[T.14]</td>\n",
              "    </tr>\n",
              "    <tr>\n",
              "      <th>14</th>\n",
              "      <td>1.7</td>\n",
              "      <td>POSTCODE[T.15]</td>\n",
              "    </tr>\n",
              "    <tr>\n",
              "      <th>15</th>\n",
              "      <td>1.8</td>\n",
              "      <td>POSTCODE[T.16]</td>\n",
              "    </tr>\n",
              "    <tr>\n",
              "      <th>16</th>\n",
              "      <td>1.8</td>\n",
              "      <td>POSTCODE[T.17]</td>\n",
              "    </tr>\n",
              "    <tr>\n",
              "      <th>17</th>\n",
              "      <td>1.6</td>\n",
              "      <td>POSTCODE[T.18]</td>\n",
              "    </tr>\n",
              "    <tr>\n",
              "      <th>18</th>\n",
              "      <td>1.3</td>\n",
              "      <td>POSTCODE[T.19]</td>\n",
              "    </tr>\n",
              "    <tr>\n",
              "      <th>19</th>\n",
              "      <td>2.1</td>\n",
              "      <td>POSTCODE[T.20]</td>\n",
              "    </tr>\n",
              "    <tr>\n",
              "      <th>20</th>\n",
              "      <td>1.6</td>\n",
              "      <td>POSTCODE[T.21]</td>\n",
              "    </tr>\n",
              "    <tr>\n",
              "      <th>21</th>\n",
              "      <td>1.8</td>\n",
              "      <td>POSTCODE[T.22]</td>\n",
              "    </tr>\n",
              "    <tr>\n",
              "      <th>22</th>\n",
              "      <td>1.4</td>\n",
              "      <td>POSTCODE[T.23]</td>\n",
              "    </tr>\n",
              "    <tr>\n",
              "      <th>23</th>\n",
              "      <td>1.6</td>\n",
              "      <td>POSTCODE[T.24]</td>\n",
              "    </tr>\n",
              "    <tr>\n",
              "      <th>24</th>\n",
              "      <td>1.3</td>\n",
              "      <td>POSTCODE[T.26]</td>\n",
              "    </tr>\n",
              "    <tr>\n",
              "      <th>25</th>\n",
              "      <td>1.3</td>\n",
              "      <td>POSTCODE[T.27]</td>\n",
              "    </tr>\n",
              "    <tr>\n",
              "      <th>26</th>\n",
              "      <td>1.3</td>\n",
              "      <td>POSTCODE[T.28]</td>\n",
              "    </tr>\n",
              "    <tr>\n",
              "      <th>27</th>\n",
              "      <td>1.2</td>\n",
              "      <td>POSTCODE[T.29]</td>\n",
              "    </tr>\n",
              "    <tr>\n",
              "      <th>28</th>\n",
              "      <td>1.5</td>\n",
              "      <td>POSTCODE[T.30]</td>\n",
              "    </tr>\n",
              "    <tr>\n",
              "      <th>29</th>\n",
              "      <td>1.5</td>\n",
              "      <td>POSTCODE[T.31]</td>\n",
              "    </tr>\n",
              "    <tr>\n",
              "      <th>...</th>\n",
              "      <td>...</td>\n",
              "      <td>...</td>\n",
              "    </tr>\n",
              "    <tr>\n",
              "      <th>44</th>\n",
              "      <td>1.4</td>\n",
              "      <td>POSTCODE[T.60]</td>\n",
              "    </tr>\n",
              "    <tr>\n",
              "      <th>45</th>\n",
              "      <td>1.4</td>\n",
              "      <td>POSTCODE[T.72]</td>\n",
              "    </tr>\n",
              "    <tr>\n",
              "      <th>46</th>\n",
              "      <td>1.4</td>\n",
              "      <td>POSTCODE[T.76]</td>\n",
              "    </tr>\n",
              "    <tr>\n",
              "      <th>47</th>\n",
              "      <td>1.6</td>\n",
              "      <td>POSTCODE[T.99]</td>\n",
              "    </tr>\n",
              "    <tr>\n",
              "      <th>48</th>\n",
              "      <td>3.7</td>\n",
              "      <td>CLASCODE_AN</td>\n",
              "    </tr>\n",
              "    <tr>\n",
              "      <th>49</th>\n",
              "      <td>1.2</td>\n",
              "      <td>CLASCODE_CM</td>\n",
              "    </tr>\n",
              "    <tr>\n",
              "      <th>50</th>\n",
              "      <td>501.8</td>\n",
              "      <td>CLASCODE_CT</td>\n",
              "    </tr>\n",
              "    <tr>\n",
              "      <th>51</th>\n",
              "      <td>1.4</td>\n",
              "      <td>CONTDATE</td>\n",
              "    </tr>\n",
              "    <tr>\n",
              "      <th>52</th>\n",
              "      <td>7.6</td>\n",
              "      <td>CONTDIREC</td>\n",
              "    </tr>\n",
              "    <tr>\n",
              "      <th>53</th>\n",
              "      <td>6.6</td>\n",
              "      <td>EXRELDATEN</td>\n",
              "    </tr>\n",
              "    <tr>\n",
              "      <th>54</th>\n",
              "      <td>1.1</td>\n",
              "      <td>EXTRELSTDT</td>\n",
              "    </tr>\n",
              "    <tr>\n",
              "      <th>55</th>\n",
              "      <td>1.4</td>\n",
              "      <td>LANGUACODE</td>\n",
              "    </tr>\n",
              "    <tr>\n",
              "      <th>56</th>\n",
              "      <td>48.0</td>\n",
              "      <td>MEDIUMCODE_EM_FF_MR_TE</td>\n",
              "    </tr>\n",
              "    <tr>\n",
              "      <th>57</th>\n",
              "      <td>285.2</td>\n",
              "      <td>MEDIUMCODE_FX_LE</td>\n",
              "    </tr>\n",
              "    <tr>\n",
              "      <th>58</th>\n",
              "      <td>5.1</td>\n",
              "      <td>MEDIUMCODE_ME</td>\n",
              "    </tr>\n",
              "    <tr>\n",
              "      <th>59</th>\n",
              "      <td>3.5</td>\n",
              "      <td>MEDIUMCODE_Others</td>\n",
              "    </tr>\n",
              "    <tr>\n",
              "      <th>60</th>\n",
              "      <td>33.3</td>\n",
              "      <td>MNTOPCODE_AR_CAN_IRE</td>\n",
              "    </tr>\n",
              "    <tr>\n",
              "      <th>61</th>\n",
              "      <td>251.7</td>\n",
              "      <td>MNTOPCODE_CTS</td>\n",
              "    </tr>\n",
              "    <tr>\n",
              "      <th>62</th>\n",
              "      <td>31.5</td>\n",
              "      <td>MNTOPCODE_DIS</td>\n",
              "    </tr>\n",
              "    <tr>\n",
              "      <th>63</th>\n",
              "      <td>19.2</td>\n",
              "      <td>MNTOPCODE_FC_FN_IN_TA</td>\n",
              "    </tr>\n",
              "    <tr>\n",
              "      <th>64</th>\n",
              "      <td>22.4</td>\n",
              "      <td>MNTOPCODE_Others</td>\n",
              "    </tr>\n",
              "    <tr>\n",
              "      <th>65</th>\n",
              "      <td>1161.0</td>\n",
              "      <td>NAME1TITLE_FA_HM_HR</td>\n",
              "    </tr>\n",
              "    <tr>\n",
              "      <th>66</th>\n",
              "      <td>1161.0</td>\n",
              "      <td>NAME1TITLE_JU_MW</td>\n",
              "    </tr>\n",
              "    <tr>\n",
              "      <th>67</th>\n",
              "      <td>1.1</td>\n",
              "      <td>PAYTYPECD_E</td>\n",
              "    </tr>\n",
              "    <tr>\n",
              "      <th>68</th>\n",
              "      <td>1.3</td>\n",
              "      <td>PAYTYPECD_O</td>\n",
              "    </tr>\n",
              "    <tr>\n",
              "      <th>69</th>\n",
              "      <td>2.3</td>\n",
              "      <td>PAYTYPECD_X</td>\n",
              "    </tr>\n",
              "    <tr>\n",
              "      <th>70</th>\n",
              "      <td>4.9</td>\n",
              "      <td>PDATE</td>\n",
              "    </tr>\n",
              "    <tr>\n",
              "      <th>71</th>\n",
              "      <td>9.4</td>\n",
              "      <td>STATUS_OK</td>\n",
              "    </tr>\n",
              "    <tr>\n",
              "      <th>72</th>\n",
              "      <td>8.9</td>\n",
              "      <td>STATUS_RC</td>\n",
              "    </tr>\n",
              "    <tr>\n",
              "      <th>73</th>\n",
              "      <td>2.0</td>\n",
              "      <td>total_donation</td>\n",
              "    </tr>\n",
              "  </tbody>\n",
              "</table>\n",
              "<p>74 rows × 2 columns</p>\n",
              "</div>"
            ],
            "text/plain": [
              "     VIF Factor                features\n",
              "0   220584792.1               Intercept\n",
              "1           1.7           POSTCODE[T.2]\n",
              "2           1.6           POSTCODE[T.3]\n",
              "3           1.9           POSTCODE[T.4]\n",
              "4           1.8           POSTCODE[T.5]\n",
              "5           2.2           POSTCODE[T.6]\n",
              "6           2.4           POSTCODE[T.7]\n",
              "7           2.1           POSTCODE[T.8]\n",
              "8           2.1           POSTCODE[T.9]\n",
              "9           2.3          POSTCODE[T.10]\n",
              "10          2.2          POSTCODE[T.11]\n",
              "11          1.9          POSTCODE[T.12]\n",
              "12          2.0          POSTCODE[T.13]\n",
              "13          1.9          POSTCODE[T.14]\n",
              "14          1.7          POSTCODE[T.15]\n",
              "15          1.8          POSTCODE[T.16]\n",
              "16          1.8          POSTCODE[T.17]\n",
              "17          1.6          POSTCODE[T.18]\n",
              "18          1.3          POSTCODE[T.19]\n",
              "19          2.1          POSTCODE[T.20]\n",
              "20          1.6          POSTCODE[T.21]\n",
              "21          1.8          POSTCODE[T.22]\n",
              "22          1.4          POSTCODE[T.23]\n",
              "23          1.6          POSTCODE[T.24]\n",
              "24          1.3          POSTCODE[T.26]\n",
              "25          1.3          POSTCODE[T.27]\n",
              "26          1.3          POSTCODE[T.28]\n",
              "27          1.2          POSTCODE[T.29]\n",
              "28          1.5          POSTCODE[T.30]\n",
              "29          1.5          POSTCODE[T.31]\n",
              "..          ...                     ...\n",
              "44          1.4          POSTCODE[T.60]\n",
              "45          1.4          POSTCODE[T.72]\n",
              "46          1.4          POSTCODE[T.76]\n",
              "47          1.6          POSTCODE[T.99]\n",
              "48          3.7             CLASCODE_AN\n",
              "49          1.2             CLASCODE_CM\n",
              "50        501.8             CLASCODE_CT\n",
              "51          1.4                CONTDATE\n",
              "52          7.6               CONTDIREC\n",
              "53          6.6              EXRELDATEN\n",
              "54          1.1              EXTRELSTDT\n",
              "55          1.4              LANGUACODE\n",
              "56         48.0  MEDIUMCODE_EM_FF_MR_TE\n",
              "57        285.2        MEDIUMCODE_FX_LE\n",
              "58          5.1           MEDIUMCODE_ME\n",
              "59          3.5       MEDIUMCODE_Others\n",
              "60         33.3    MNTOPCODE_AR_CAN_IRE\n",
              "61        251.7           MNTOPCODE_CTS\n",
              "62         31.5           MNTOPCODE_DIS\n",
              "63         19.2   MNTOPCODE_FC_FN_IN_TA\n",
              "64         22.4        MNTOPCODE_Others\n",
              "65       1161.0     NAME1TITLE_FA_HM_HR\n",
              "66       1161.0        NAME1TITLE_JU_MW\n",
              "67          1.1             PAYTYPECD_E\n",
              "68          1.3             PAYTYPECD_O\n",
              "69          2.3             PAYTYPECD_X\n",
              "70          4.9                   PDATE\n",
              "71          9.4               STATUS_OK\n",
              "72          8.9               STATUS_RC\n",
              "73          2.0          total_donation\n",
              "\n",
              "[74 rows x 2 columns]"
            ]
          },
          "metadata": {
            "tags": []
          },
          "execution_count": 25
        }
      ]
    },
    {
      "metadata": {
        "id": "64M1uylSzf5o",
        "colab_type": "code",
        "colab": {
          "base_uri": "https://localhost:8080/",
          "height": 54
        },
        "outputId": "8caaf079-f1d8-4d1f-d037-a1aec4c7ee71"
      },
      "cell_type": "code",
      "source": [
        "df.drop(['CLASCODE_CT','CONTDIREC','EXRELDATEN','MEDIUMCODE_FX_LE','MNTOPCODE_AR_CAN_IRE','MNTOPCODE_CTS',\n",
        "        'NAME1TITLE_FA_HM_HR','NAME1TITLE_JU_MW','STATUS_OK','STATUS_RC'],axis=1,inplace=True)\n",
        "myfor='churn~'+'+'.join(df.columns.difference(['churn']))\n",
        "print(myfor)"
      ],
      "execution_count": 26,
      "outputs": [
        {
          "output_type": "stream",
          "text": [
            "churn~CLASCODE_AN+CLASCODE_CM+CONTDATE+EXTRELSTDT+LANGUACODE+MEDIUMCODE_EM_FF_MR_TE+MEDIUMCODE_ME+MEDIUMCODE_Others+MNTOPCODE_DIS+MNTOPCODE_FC_FN_IN_TA+MNTOPCODE_Others+PAYTYPECD_E+PAYTYPECD_O+PAYTYPECD_X+PDATE+POSTCODE+total_donation\n"
          ],
          "name": "stdout"
        }
      ]
    },
    {
      "metadata": {
        "id": "eyTMdfgP2Njd",
        "colab_type": "code",
        "colab": {
          "base_uri": "https://localhost:8080/",
          "height": 245
        },
        "outputId": "32e58ba5-0bcd-4d7b-a707-f31817313af6"
      },
      "cell_type": "code",
      "source": [
        "df.head()"
      ],
      "execution_count": 27,
      "outputs": [
        {
          "output_type": "execute_result",
          "data": {
            "text/html": [
              "<div>\n",
              "<style scoped>\n",
              "    .dataframe tbody tr th:only-of-type {\n",
              "        vertical-align: middle;\n",
              "    }\n",
              "\n",
              "    .dataframe tbody tr th {\n",
              "        vertical-align: top;\n",
              "    }\n",
              "\n",
              "    .dataframe thead th {\n",
              "        text-align: right;\n",
              "    }\n",
              "</style>\n",
              "<table border=\"1\" class=\"dataframe\">\n",
              "  <thead>\n",
              "    <tr style=\"text-align: right;\">\n",
              "      <th></th>\n",
              "      <th>POSTCODE</th>\n",
              "      <th>LANGUACODE</th>\n",
              "      <th>EXTRELSTDT</th>\n",
              "      <th>CONTDATE</th>\n",
              "      <th>PDATE</th>\n",
              "      <th>total_donation</th>\n",
              "      <th>churn</th>\n",
              "      <th>MNTOPCODE_DIS</th>\n",
              "      <th>MNTOPCODE_FC_FN_IN_TA</th>\n",
              "      <th>MNTOPCODE_Others</th>\n",
              "      <th>MEDIUMCODE_EM_FF_MR_TE</th>\n",
              "      <th>MEDIUMCODE_ME</th>\n",
              "      <th>MEDIUMCODE_Others</th>\n",
              "      <th>CLASCODE_AN</th>\n",
              "      <th>CLASCODE_CM</th>\n",
              "      <th>PAYTYPECD_E</th>\n",
              "      <th>PAYTYPECD_O</th>\n",
              "      <th>PAYTYPECD_X</th>\n",
              "    </tr>\n",
              "    <tr>\n",
              "      <th>EXTRELNO</th>\n",
              "      <th></th>\n",
              "      <th></th>\n",
              "      <th></th>\n",
              "      <th></th>\n",
              "      <th></th>\n",
              "      <th></th>\n",
              "      <th></th>\n",
              "      <th></th>\n",
              "      <th></th>\n",
              "      <th></th>\n",
              "      <th></th>\n",
              "      <th></th>\n",
              "      <th></th>\n",
              "      <th></th>\n",
              "      <th></th>\n",
              "      <th></th>\n",
              "      <th></th>\n",
              "      <th></th>\n",
              "    </tr>\n",
              "  </thead>\n",
              "  <tbody>\n",
              "    <tr>\n",
              "      <th>0026419</th>\n",
              "      <td>33</td>\n",
              "      <td>1</td>\n",
              "      <td>727258</td>\n",
              "      <td>732511</td>\n",
              "      <td>732678</td>\n",
              "      <td>75.0</td>\n",
              "      <td>0</td>\n",
              "      <td>0</td>\n",
              "      <td>0</td>\n",
              "      <td>0</td>\n",
              "      <td>0</td>\n",
              "      <td>0</td>\n",
              "      <td>0</td>\n",
              "      <td>0</td>\n",
              "      <td>0</td>\n",
              "      <td>1</td>\n",
              "      <td>0</td>\n",
              "      <td>0</td>\n",
              "    </tr>\n",
              "    <tr>\n",
              "      <th>0026443</th>\n",
              "      <td>6</td>\n",
              "      <td>1</td>\n",
              "      <td>727258</td>\n",
              "      <td>732659</td>\n",
              "      <td>732693</td>\n",
              "      <td>25.0</td>\n",
              "      <td>0</td>\n",
              "      <td>0</td>\n",
              "      <td>0</td>\n",
              "      <td>0</td>\n",
              "      <td>0</td>\n",
              "      <td>0</td>\n",
              "      <td>0</td>\n",
              "      <td>0</td>\n",
              "      <td>0</td>\n",
              "      <td>0</td>\n",
              "      <td>0</td>\n",
              "      <td>0</td>\n",
              "    </tr>\n",
              "    <tr>\n",
              "      <th>0026444</th>\n",
              "      <td>33</td>\n",
              "      <td>1</td>\n",
              "      <td>727258</td>\n",
              "      <td>732483</td>\n",
              "      <td>732693</td>\n",
              "      <td>25.0</td>\n",
              "      <td>0</td>\n",
              "      <td>0</td>\n",
              "      <td>0</td>\n",
              "      <td>0</td>\n",
              "      <td>0</td>\n",
              "      <td>0</td>\n",
              "      <td>0</td>\n",
              "      <td>0</td>\n",
              "      <td>0</td>\n",
              "      <td>0</td>\n",
              "      <td>0</td>\n",
              "      <td>0</td>\n",
              "    </tr>\n",
              "    <tr>\n",
              "      <th>0026446</th>\n",
              "      <td>11</td>\n",
              "      <td>1</td>\n",
              "      <td>727258</td>\n",
              "      <td>732551</td>\n",
              "      <td>732693</td>\n",
              "      <td>75.0</td>\n",
              "      <td>0</td>\n",
              "      <td>0</td>\n",
              "      <td>0</td>\n",
              "      <td>0</td>\n",
              "      <td>0</td>\n",
              "      <td>0</td>\n",
              "      <td>0</td>\n",
              "      <td>0</td>\n",
              "      <td>0</td>\n",
              "      <td>0</td>\n",
              "      <td>0</td>\n",
              "      <td>0</td>\n",
              "    </tr>\n",
              "    <tr>\n",
              "      <th>0026470</th>\n",
              "      <td>33</td>\n",
              "      <td>1</td>\n",
              "      <td>727258</td>\n",
              "      <td>732686</td>\n",
              "      <td>732693</td>\n",
              "      <td>71.0</td>\n",
              "      <td>0</td>\n",
              "      <td>0</td>\n",
              "      <td>0</td>\n",
              "      <td>0</td>\n",
              "      <td>0</td>\n",
              "      <td>0</td>\n",
              "      <td>0</td>\n",
              "      <td>0</td>\n",
              "      <td>0</td>\n",
              "      <td>0</td>\n",
              "      <td>0</td>\n",
              "      <td>0</td>\n",
              "    </tr>\n",
              "  </tbody>\n",
              "</table>\n",
              "</div>"
            ],
            "text/plain": [
              "         POSTCODE  LANGUACODE  EXTRELSTDT  CONTDATE   PDATE  total_donation  \\\n",
              "EXTRELNO                                                                      \n",
              "0026419        33           1      727258    732511  732678            75.0   \n",
              "0026443         6           1      727258    732659  732693            25.0   \n",
              "0026444        33           1      727258    732483  732693            25.0   \n",
              "0026446        11           1      727258    732551  732693            75.0   \n",
              "0026470        33           1      727258    732686  732693            71.0   \n",
              "\n",
              "          churn  MNTOPCODE_DIS  MNTOPCODE_FC_FN_IN_TA  MNTOPCODE_Others  \\\n",
              "EXTRELNO                                                                  \n",
              "0026419       0              0                      0                 0   \n",
              "0026443       0              0                      0                 0   \n",
              "0026444       0              0                      0                 0   \n",
              "0026446       0              0                      0                 0   \n",
              "0026470       0              0                      0                 0   \n",
              "\n",
              "          MEDIUMCODE_EM_FF_MR_TE  MEDIUMCODE_ME  MEDIUMCODE_Others  \\\n",
              "EXTRELNO                                                             \n",
              "0026419                        0              0                  0   \n",
              "0026443                        0              0                  0   \n",
              "0026444                        0              0                  0   \n",
              "0026446                        0              0                  0   \n",
              "0026470                        0              0                  0   \n",
              "\n",
              "          CLASCODE_AN  CLASCODE_CM  PAYTYPECD_E  PAYTYPECD_O  PAYTYPECD_X  \n",
              "EXTRELNO                                                                   \n",
              "0026419             0            0            1            0            0  \n",
              "0026443             0            0            0            0            0  \n",
              "0026444             0            0            0            0            0  \n",
              "0026446             0            0            0            0            0  \n",
              "0026470             0            0            0            0            0  "
            ]
          },
          "metadata": {
            "tags": []
          },
          "execution_count": 27
        }
      ]
    },
    {
      "metadata": {
        "id": "xAG6QVP0Y-Od",
        "colab_type": "text"
      },
      "cell_type": "markdown",
      "source": [
        "__Data Modelling__"
      ]
    },
    {
      "metadata": {
        "id": "SmXNHhvtZkCr",
        "colab_type": "code",
        "colab": {}
      },
      "cell_type": "code",
      "source": [
        "# Seperating Output variable\n",
        "\n",
        "y=df['churn']\n",
        "df.drop('churn',axis=1,inplace=True)"
      ],
      "execution_count": 0,
      "outputs": []
    },
    {
      "metadata": {
        "id": "zcrL9Jf_Nh72",
        "colab_type": "code",
        "colab": {}
      },
      "cell_type": "code",
      "source": [
        "# Splitting data into test and train\n",
        "\n",
        "from sklearn.model_selection import train_test_split\n",
        "\n",
        "x_train,x_test,y_train,y_test=train_test_split(df,y,test_size=0.2,random_state=0)"
      ],
      "execution_count": 0,
      "outputs": []
    },
    {
      "metadata": {
        "id": "v6smC1EEYmEq",
        "colab_type": "text"
      },
      "cell_type": "markdown",
      "source": [
        "__Model 1: LogisticRegression__"
      ]
    },
    {
      "metadata": {
        "id": "pQl0wNhIZ74u",
        "colab_type": "code",
        "colab": {
          "base_uri": "https://localhost:8080/",
          "height": 84
        },
        "outputId": "63a2ad27-cfd7-4f74-c7c7-6690bf39caaa"
      },
      "cell_type": "code",
      "source": [
        "# Importing Logistic Regresion and fitting the data\n",
        "\n",
        "from sklearn.linear_model import LogisticRegression\n",
        "\n",
        "model=LogisticRegression(random_state=0,penalty='l1',C=100)\n",
        "model.fit(x_train,y_train)"
      ],
      "execution_count": 63,
      "outputs": [
        {
          "output_type": "execute_result",
          "data": {
            "text/plain": [
              "LogisticRegression(C=100, class_weight=None, dual=False, fit_intercept=True,\n",
              "          intercept_scaling=1, max_iter=100, multi_class='ovr', n_jobs=1,\n",
              "          penalty='l1', random_state=0, solver='liblinear', tol=0.0001,\n",
              "          verbose=0, warm_start=False)"
            ]
          },
          "metadata": {
            "tags": []
          },
          "execution_count": 63
        }
      ]
    },
    {
      "metadata": {
        "id": "nJGrSub1aSG_",
        "colab_type": "code",
        "colab": {}
      },
      "cell_type": "code",
      "source": [
        "# Predicting Output\n",
        "\n",
        "ypred=model.predict(x_test)"
      ],
      "execution_count": 0,
      "outputs": []
    },
    {
      "metadata": {
        "id": "NdtxDE-uakC1",
        "colab_type": "code",
        "colab": {}
      },
      "cell_type": "code",
      "source": [
        "#Validating Output\n",
        "\n",
        "from sklearn.metrics import roc_auc_score\n",
        "from sklearn.metrics import accuracy_score,confusion_matrix,f1_score\n",
        "from sklearn.model_selection import cross_val_score\n",
        "from sklearn.metrics import average_precision_score\n",
        "\n",
        "\n",
        "cv_acc=cross_val_score(estimator=model,X=x_train,y=y_train,cv=10)\n",
        "cm=confusion_matrix(y_test,ypred)\n",
        "cv_acc=cv_acc.mean()\n",
        "acc=accuracy_score(y_test,ypred)\n",
        "acc1=f1_score(y_test,ypred,average='binary')\n",
        "auc = roc_auc_score(y_test,ypred)\n",
        "aps=average_precision_score(y_test,ypred)"
      ],
      "execution_count": 0,
      "outputs": []
    },
    {
      "metadata": {
        "id": "hn-C1ehebJ56",
        "colab_type": "code",
        "colab": {
          "base_uri": "https://localhost:8080/",
          "height": 319
        },
        "outputId": "c1b32240-4572-4440-8116-77750c04bde3"
      },
      "cell_type": "code",
      "source": [
        "# Printing Output\n",
        "\n",
        "print('Confusion Matrix\\n',cm)\n",
        "print('\\nCross Validation Score\\n',cv_acc)\n",
        "print('\\nTesting Accuracy\\n',acc)\n",
        "print('\\nF1 Score\\n',acc1)\n",
        "print('\\nAUC\\n',auc)\n",
        "print('\\nAverage Precision Score\\n',aps)"
      ],
      "execution_count": 66,
      "outputs": [
        {
          "output_type": "stream",
          "text": [
            "Confusion Matrix\n",
            " [[1011    9]\n",
            " [  11   58]]\n",
            "\n",
            "Cross Validation Score\n",
            " 0.9832284087314141\n",
            "\n",
            "Testing Accuracy\n",
            " 0.9816345270890725\n",
            "\n",
            "F1 Score\n",
            " 0.8529411764705882\n",
            "\n",
            "AUC\n",
            " 0.9158780903665814\n",
            "\n",
            "Average Precision Score\n",
            " 0.73776702783841\n"
          ],
          "name": "stdout"
        }
      ]
    },
    {
      "metadata": {
        "id": "dx6Y1f99Y0jB",
        "colab_type": "text"
      },
      "cell_type": "markdown",
      "source": [
        "__Model 2: Random Forest__"
      ]
    },
    {
      "metadata": {
        "id": "Ubfca1xfY4so",
        "colab_type": "code",
        "colab": {
          "base_uri": "https://localhost:8080/",
          "height": 118
        },
        "outputId": "cb0aada2-c08e-44ba-f8e2-558a3d1fc797"
      },
      "cell_type": "code",
      "source": [
        "from sklearn.ensemble import RandomForestClassifier\n",
        "\n",
        "model1=RandomForestClassifier(random_state=123,n_jobs=-1,n_estimators=60,max_depth=4,min_samples_split=10)\n",
        "model1.fit(x_train,y_train)"
      ],
      "execution_count": 109,
      "outputs": [
        {
          "output_type": "execute_result",
          "data": {
            "text/plain": [
              "RandomForestClassifier(bootstrap=True, class_weight=None, criterion='gini',\n",
              "            max_depth=4, max_features='auto', max_leaf_nodes=None,\n",
              "            min_impurity_decrease=0.0, min_impurity_split=None,\n",
              "            min_samples_leaf=1, min_samples_split=10,\n",
              "            min_weight_fraction_leaf=0.0, n_estimators=60, n_jobs=-1,\n",
              "            oob_score=False, random_state=123, verbose=0, warm_start=False)"
            ]
          },
          "metadata": {
            "tags": []
          },
          "execution_count": 109
        }
      ]
    },
    {
      "metadata": {
        "id": "OdLbtHelZX0G",
        "colab_type": "code",
        "colab": {}
      },
      "cell_type": "code",
      "source": [
        "#Predicting output\n",
        "\n",
        "ypred1=model1.predict(x_test)"
      ],
      "execution_count": 0,
      "outputs": []
    },
    {
      "metadata": {
        "id": "bJhvr8obZeob",
        "colab_type": "code",
        "colab": {}
      },
      "cell_type": "code",
      "source": [
        "#Validating Output\n",
        "\n",
        "from sklearn.metrics import roc_auc_score\n",
        "from sklearn.metrics import accuracy_score,confusion_matrix,f1_score\n",
        "from sklearn.model_selection import cross_val_score\n",
        "from sklearn.metrics import average_precision_score\n",
        "\n",
        "\n",
        "cv_acc=cross_val_score(estimator=model1,X=x_train,y=y_train,cv=5)\n",
        "cm=confusion_matrix(y_test,ypred1)\n",
        "cv_acc=cv_acc.mean()\n",
        "acc=accuracy_score(y_test,ypred1)\n",
        "acc1=f1_score(y_test,ypred1,average='binary')\n",
        "auc = roc_auc_score(y_test,ypred1)\n",
        "aps=average_precision_score(y_test,ypred1)"
      ],
      "execution_count": 0,
      "outputs": []
    },
    {
      "metadata": {
        "id": "d4lM0S9PZevy",
        "colab_type": "code",
        "colab": {
          "base_uri": "https://localhost:8080/",
          "height": 319
        },
        "outputId": "dfd0f60d-b7be-4c69-a80c-47b52adf87bd"
      },
      "cell_type": "code",
      "source": [
        "# Printing Output\n",
        "\n",
        "print('Confusion Matrix\\n',cm)\n",
        "print('\\nCross Validation Score\\n',cv_acc)\n",
        "print('\\nTesting Accuracy\\n',acc)\n",
        "print('\\nF1 Score\\n',acc1)\n",
        "print('\\nAUC\\n',auc)\n",
        "print('\\nAverage Precision Score\\n',aps)"
      ],
      "execution_count": 112,
      "outputs": [
        {
          "output_type": "stream",
          "text": [
            "Confusion Matrix\n",
            " [[1017    3]\n",
            " [   6   63]]\n",
            "\n",
            "Cross Validation Score\n",
            " 0.9917296805099172\n",
            "\n",
            "Testing Accuracy\n",
            " 0.9917355371900827\n",
            "\n",
            "F1 Score\n",
            " 0.9333333333333332\n",
            "\n",
            "AUC\n",
            " 0.9550511508951407\n",
            "\n",
            "Average Precision Score\n",
            " 0.8770511438495628\n"
          ],
          "name": "stdout"
        }
      ]
    },
    {
      "metadata": {
        "id": "yR3QaaqJGOPQ",
        "colab_type": "text"
      },
      "cell_type": "markdown",
      "source": [
        "__Hence we will use RandomForest Classifier over Logistic Regression as Random Forest provides better area under the curve, F1 score and better accuracy, moreover Logistic Regression is  slightly overfitting the data. Therefore we consider the Random Forest Calssifier as our model for analysis.__"
      ]
    }
  ]
}